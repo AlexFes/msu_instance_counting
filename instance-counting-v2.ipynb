{
 "cells": [
  {
   "cell_type": "markdown",
   "metadata": {
    "colab_type": "text",
    "id": "kFSqkTCdWKMI"
   },
   "source": [
    "# Imports"
   ]
  },
  {
   "cell_type": "code",
   "execution_count": 36,
   "metadata": {
    "colab": {
     "autoexec": {
      "startup": false,
      "wait_interval": 0
     }
    },
    "colab_type": "code",
    "id": "hV4P5gyTWKMI"
   },
   "outputs": [],
   "source": [
    "import numpy as np\n",
    "import os\n",
    "import six.moves.urllib as urllib\n",
    "import sys\n",
    "import tarfile\n",
    "import tensorflow as tf\n",
    "import zipfile\n",
    "\n",
    "import collections\n",
    "from numpy import dot\n",
    "from scipy.linalg import inv, block_diag\n",
    "import cv2\n",
    "\n",
    "cap = cv2.VideoCapture(\"prank.mp4\")\n",
    "\n",
    "# Default resolutions of the frame are obtained.The default resolutions are system dependent.\n",
    "# We convert the resolutions from float to integer.\n",
    "frame_width = int(cap.get(3))\n",
    "frame_height = int(cap.get(4))\n",
    "out = cv2.VideoWriter('output.avi', cv2.VideoWriter_fourcc('M','J','P','G'), 10, (frame_width,frame_height))\n",
    "\n",
    "from distutils.version import StrictVersion\n",
    "from collections import defaultdict\n",
    "from io import StringIO\n",
    "import matplotlib.pyplot as plt\n",
    "from PIL import Image\n",
    "\n",
    "%matplotlib inline\n",
    "os.environ['KMP_DUPLICATE_LIB_OK']='True'\n",
    "\n",
    "# This is needed since the notebook is stored in the object_detection folder.\n",
    "sys.path.append(\"..\")\n",
    "from object_detection.utils import ops as utils_ops\n",
    "\n",
    "if StrictVersion(tf.__version__) < StrictVersion('1.9.0'):\n",
    "  raise ImportError('Please upgrade your TensorFlow installation to v1.9.* or later!')\n"
   ]
  },
  {
   "cell_type": "markdown",
   "metadata": {
    "colab_type": "text",
    "id": "r5FNuiRPWKMN"
   },
   "source": [
    "## Object detection imports\n",
    "Here are the imports from the object detection module."
   ]
  },
  {
   "cell_type": "code",
   "execution_count": 4,
   "metadata": {
    "colab": {
     "autoexec": {
      "startup": false,
      "wait_interval": 0
     }
    },
    "colab_type": "code",
    "id": "bm0_uNRnWKMN"
   },
   "outputs": [],
   "source": [
    "from utils import label_map_util\n",
    "from utils import visualization_utils as vis_util"
   ]
  },
  {
   "cell_type": "markdown",
   "metadata": {
    "colab_type": "text",
    "id": "cfn_tRFOWKMO"
   },
   "source": [
    "# Model preparation "
   ]
  },
  {
   "cell_type": "markdown",
   "metadata": {
    "colab_type": "text",
    "id": "X_sEBLpVWKMQ"
   },
   "source": [
    "## Variables\n",
    "\n",
    "Any model exported using the `export_inference_graph.py` tool can be loaded here simply by changing `PATH_TO_FROZEN_GRAPH` to point to a new .pb file.  \n",
    "\n",
    "By default we use an \"SSD with Mobilenet\" model here. See the [detection model zoo](https://github.com/tensorflow/models/blob/master/research/object_detection/g3doc/detection_model_zoo.md) for a list of other models that can be run out-of-the-box with varying speeds and accuracies."
   ]
  },
  {
   "cell_type": "code",
   "execution_count": 5,
   "metadata": {
    "colab": {
     "autoexec": {
      "startup": false,
      "wait_interval": 0
     }
    },
    "colab_type": "code",
    "id": "VyPz_t8WWKMQ"
   },
   "outputs": [],
   "source": [
    "# What model to download.\n",
    "MODEL_NAME = 'ssd_mobilenet_v1_coco_2017_11_17'\n",
    "MODEL_FILE = MODEL_NAME + '.tar.gz'\n",
    "DOWNLOAD_BASE = 'http://download.tensorflow.org/models/object_detection/'\n",
    "\n",
    "# Path to frozen detection graph. This is the actual model that is used for the object detection.\n",
    "PATH_TO_FROZEN_GRAPH = MODEL_NAME + '/frozen_inference_graph.pb'\n",
    "\n",
    "# List of the strings that is used to add correct label for each box.\n",
    "PATH_TO_LABELS = os.path.join('data', 'mscoco_label_map.pbtxt')"
   ]
  },
  {
   "cell_type": "markdown",
   "metadata": {
    "colab_type": "text",
    "id": "7ai8pLZZWKMS"
   },
   "source": [
    "## Download Model"
   ]
  },
  {
   "cell_type": "code",
   "execution_count": 6,
   "metadata": {
    "colab": {
     "autoexec": {
      "startup": false,
      "wait_interval": 0
     }
    },
    "colab_type": "code",
    "id": "KILYnwR5WKMS"
   },
   "outputs": [],
   "source": [
    "opener = urllib.request.URLopener()\n",
    "opener.retrieve(DOWNLOAD_BASE + MODEL_FILE, MODEL_FILE)\n",
    "tar_file = tarfile.open(MODEL_FILE)\n",
    "for file in tar_file.getmembers():\n",
    "  file_name = os.path.basename(file.name)\n",
    "  if 'frozen_inference_graph.pb' in file_name:\n",
    "    tar_file.extract(file, os.getcwd())"
   ]
  },
  {
   "cell_type": "markdown",
   "metadata": {
    "colab_type": "text",
    "id": "YBcB9QHLWKMU"
   },
   "source": [
    "## Load a (frozen) Tensorflow model into memory."
   ]
  },
  {
   "cell_type": "code",
   "execution_count": 7,
   "metadata": {
    "colab": {
     "autoexec": {
      "startup": false,
      "wait_interval": 0
     }
    },
    "colab_type": "code",
    "id": "KezjCRVvWKMV"
   },
   "outputs": [],
   "source": [
    "detection_graph = tf.Graph()\n",
    "with detection_graph.as_default():\n",
    "  od_graph_def = tf.GraphDef()\n",
    "  with tf.gfile.GFile(PATH_TO_FROZEN_GRAPH, 'rb') as fid:\n",
    "    serialized_graph = fid.read()\n",
    "    od_graph_def.ParseFromString(serialized_graph)\n",
    "    tf.import_graph_def(od_graph_def, name='')"
   ]
  },
  {
   "cell_type": "markdown",
   "metadata": {
    "colab_type": "text",
    "id": "_1MVVTcLWKMW"
   },
   "source": [
    "## Loading label map\n",
    "Label maps map indices to category names, so that when our convolution network predicts `5`, we know that this corresponds to `airplane`.  Here we use internal utility functions, but anything that returns a dictionary mapping integers to appropriate string labels would be fine"
   ]
  },
  {
   "cell_type": "code",
   "execution_count": 8,
   "metadata": {
    "colab": {
     "autoexec": {
      "startup": false,
      "wait_interval": 0
     }
    },
    "colab_type": "code",
    "id": "hDbpHkiWWKMX"
   },
   "outputs": [],
   "source": [
    "category_index = label_map_util.create_category_index_from_labelmap(PATH_TO_LABELS, use_display_name=True)"
   ]
  },
  {
   "cell_type": "markdown",
   "metadata": {},
   "source": [
    "# Utility functions"
   ]
  },
  {
   "cell_type": "code",
   "execution_count": 9,
   "metadata": {},
   "outputs": [],
   "source": [
    "from utils.visualization_utils import STANDARD_COLORS\n",
    "from utils.visualization_utils import draw_bounding_box_on_image_array as draw_box\n",
    "\n",
    "def boxes_to_class_map(\n",
    "    boxes,\n",
    "    classes,\n",
    "    scores,\n",
    "    category_index,\n",
    "    max_boxes_to_draw=20,\n",
    "    min_score_thresh=.5,\n",
    "    main_class='person'):\n",
    "  \"\"\"Remove all boxes except the main class\n",
    "  \n",
    "  Returns a tuple of numpy arrays of boxes and scores meeting the main_class and\n",
    "  minimum threshold requirements\n",
    "  \n",
    "  The default main class for the algorithm is 'person'\n",
    "  \"\"\"\n",
    "  \n",
    "  final_boxes = np.empty(shape=(0, 4))\n",
    "  final_scores = np.array([])\n",
    "\n",
    "  for i in range(boxes.shape[0]):\n",
    "    if scores[i] > min_score_thresh and category_index[classes[i]]['name'] == 'person':\n",
    "      final_boxes = np.vstack((final_boxes, boxes[i]))\n",
    "      final_scores = np.append(final_scores, scores[i])\n",
    "\n",
    "  return (final_boxes, final_scores)\n",
    "\n",
    "def visualize_boxes(\n",
    "    image, \n",
    "    boxes_dict,\n",
    "    classes,\n",
    "    category_index,\n",
    "    main_class = 'person'):\n",
    "  \"\"\"Visualize boxes\n",
    "  \n",
    "  Render numbered boxes of a single class (main_class)\n",
    "  \"\"\"\n",
    "  \n",
    "  box_to_color_map = collections.defaultdict(str)\n",
    "  box_to_display_str_map = collections.defaultdict(list)\n",
    "  \n",
    "  # Get color and display string\n",
    "  for id in boxes_dict:\n",
    "#     box = tuple(boxes_dict[id].tolist())\n",
    "    box = tuple(boxes_dict[id])\n",
    "    display_str = '{} {}'.format(main_class, id)\n",
    "    box_to_display_str_map[box].append(display_str)\n",
    "    box_to_color_map[box] = STANDARD_COLORS[id%len(STANDARD_COLORS)]\n",
    " \n",
    "  # Draw boxes\n",
    "  for box, color in box_to_color_map.items():\n",
    "    ymin, xmin, ymax, xmax = box\n",
    "    \n",
    "    draw_box(\n",
    "        image,\n",
    "        ymin,\n",
    "        xmin,\n",
    "        ymax,\n",
    "        xmax,\n",
    "        color=color,\n",
    "        thickness=8,\n",
    "        display_str_list=box_to_display_str_map[box],\n",
    "        use_normalized_coordinates=True)\n",
    "\n",
    "  return image\n",
    "  \n",
    "def get_iou(box1, box2):\n",
    "  \"\"\"Evaluate IOU for two boxes\n",
    "  \"\"\"\n",
    "  \n",
    "  ymin1, xmin1, ymax1, xmax1 = box1\n",
    "  ymin2, xmin2, ymax2, xmax2 = box2\n",
    "  \n",
    "  x1_intersection = max(xmin1, xmin2)\n",
    "  x2_intersection = min(xmax1, xmax2)\n",
    "  y1_intersection = max(ymin1, ymin2)\n",
    "  y2_intersection = min(ymax1, ymax2)\n",
    "  \n",
    "  intersection = (x2_intersection - x1_intersection)*(y2_intersection - y1_intersection)\n",
    "  s1 = (xmax1 - xmin1)*(ymax1 - ymin1)\n",
    "  s2 = (xmax2 - xmin2)*(ymax2 - ymin2)\n",
    "  \n",
    "  return intersection/(s1 + s2 - intersection)"
   ]
  },
  {
   "cell_type": "markdown",
   "metadata": {},
   "source": [
    "# Main class for object tracking with Kalman filter"
   ]
  },
  {
   "cell_type": "code",
   "execution_count": 20,
   "metadata": {},
   "outputs": [],
   "source": [
    "class Tracker():\n",
    "  def __init__(self):\n",
    "    self.id = 0  # tracker's id \n",
    "    self.box = [] # list to store the coordinates for a bounding box \n",
    "    self.hits = 0 # number of detection matches\n",
    "    self.no_losses = 0 # number of unmatched tracks (track loss)\n",
    "\n",
    "    \"\"\"\n",
    "            Initialize parameters for Kalman Filtering\n",
    "    The state is the (x, y) coordinates of the detection box\n",
    "    state: [up, up_dot, left, left_dot, down, down_dot, right, right_dot]\n",
    "    \"\"\"\n",
    "    self.x_state=[] \n",
    "    self.dt = 1.   # time interval\n",
    "\n",
    "    # Process matrix, assuming constant velocity model\n",
    "    self.F = np.array([[1, self.dt, 0,  0,  0,  0,  0, 0],\n",
    "                       [0, 1,  0,  0,  0,  0,  0, 0],\n",
    "                       [0, 0,  1,  self.dt, 0,  0,  0, 0],\n",
    "                       [0, 0,  0,  1,  0,  0,  0, 0],\n",
    "                       [0, 0,  0,  0,  1,  self.dt, 0, 0],\n",
    "                       [0, 0,  0,  0,  0,  1,  0, 0],\n",
    "                       [0, 0,  0,  0,  0,  0,  1, self.dt],\n",
    "                       [0, 0,  0,  0,  0,  0,  0,  1]])\n",
    "\n",
    "    # Measurement matrix, assuming we can only measure the coordinates\n",
    "    self.H = np.array([[1, 0, 0, 0, 0, 0, 0, 0],\n",
    "                       [0, 0, 1, 0, 0, 0, 0, 0],\n",
    "                       [0, 0, 0, 0, 1, 0, 0, 0], \n",
    "                       [0, 0, 0, 0, 0, 0, 1, 0]])\n",
    "\n",
    "    # Initialize the state covariance\n",
    "    self.L = 100.0\n",
    "    self.P = np.diag(self.L*np.ones(8))\n",
    "\n",
    "    # Initialize the process covariance\n",
    "    self.Q_comp_mat = np.array([[self.dt**4/2., self.dt**3/2.],\n",
    "                                [self.dt**3/2., self.dt**2]])\n",
    "    self.Q = block_diag(self.Q_comp_mat, self.Q_comp_mat, \n",
    "                        self.Q_comp_mat, self.Q_comp_mat)\n",
    "\n",
    "    # Initialize the measurement covariance\n",
    "    self.R_ratio = 1.0/16.0\n",
    "    self.R_diag_array = self.R_ratio * np.array([self.L, self.L, self.L, self.L])\n",
    "    self.R = np.diag(self.R_diag_array)\n",
    "\n",
    "  def update_R(self):   \n",
    "    R_diag_array = self.R_ratio * np.array([self.L, self.L, self.L, self.L])\n",
    "    self.R = np.diag(R_diag_array)\n",
    "\n",
    "  def kalman_filter(self, z): \n",
    "    '''\n",
    "    Implement the Kalman Filter, including the predict and the update stages,\n",
    "    with the measurement z\n",
    "    '''\n",
    "\n",
    "    x = self.x_state\n",
    "\n",
    "    # Predict\n",
    "    x = dot(self.F, x)\n",
    "    self.P = dot(self.F, self.P).dot(self.F.T) + self.Q\n",
    "\n",
    "    #Update\n",
    "    S = dot(self.H, self.P).dot(self.H.T) + self.R\n",
    "    K = dot(self.P, self.H.T).dot(inv(S)) # Kalman gain\n",
    "    y = z - dot(self.H, x) # residual\n",
    "    x += dot(K, y)\n",
    "    self.P = self.P - dot(K, self.H).dot(self.P)\n",
    "#     self.x_state = x.astype(int) # convert to integer coordinates \n",
    "#                                  #(pixel values)\n",
    "    self.x_state = x\n",
    "\n",
    "  def predict_only(self):  \n",
    "    '''\n",
    "    Implement only the predict stage. This is used for unmatched detections and \n",
    "    unmatched tracks\n",
    "    '''\n",
    "    \n",
    "    x = self.x_state\n",
    "    # Predict\n",
    "    x = dot(self.F, x)\n",
    "    self.P = dot(self.F, self.P).dot(self.F.T) + self.Q\n",
    "#     self.x_state = x.astype(int)\n",
    "    self.x_state = x\n",
    "\n",
    "  def get_bbox(self):\n",
    "    \"\"\"\n",
    "    Get bbox coordinates in correct format\n",
    "    \"\"\"\n",
    "    \n",
    "    return [self.box[2], self.box[1], self.box[0], self.box[3]]\n",
    "    "
   ]
  },
  {
   "cell_type": "markdown",
   "metadata": {},
   "source": [
    "# Instance identification method"
   ]
  },
  {
   "cell_type": "code",
   "execution_count": 34,
   "metadata": {},
   "outputs": [],
   "source": [
    "def boxes_to_ids_map(\n",
    "    boxes, \n",
    "    tracker_list, \n",
    "    min_iou_thresh=.3):\n",
    "  \"\"\"Get ids for boxes\n",
    "  \n",
    "  Map all boxes of the same class(main_class) to ids(integers) according\n",
    "  to tracker list\n",
    "  \n",
    "  This method mutates tracker_list and returns a dictionary of current boxes\n",
    "  \"\"\"\n",
    "  \n",
    "  current_boxes_dict = collections.defaultdict(list)\n",
    "  tmp_tracker_list = list(tracker_list)\n",
    "  tmp_len = len(tmp_tracker_list)\n",
    "  matched_trackers_list = []\n",
    "  \n",
    "  # Eveluate IOU of every input box with boxes from buffer dictionary\n",
    "  for i in range(boxes.shape[0]):\n",
    "    current_box = boxes[i]\n",
    "    current_iou = 0\n",
    "    current_id = 0\n",
    "    \n",
    "    for trk in tmp_tracker_list:\n",
    "      iou = get_iou(current_box, trk.box)\n",
    "      \n",
    "      if iou > current_iou:\n",
    "        current_iou = iou\n",
    "        current_id = trk.id\n",
    " \n",
    "    # In case of existing instance\n",
    "    if current_iou > min_iou_thresh:      \n",
    "      current_box = np.expand_dims(current_box, axis=0).T\n",
    "\n",
    "      tmp_trk = tracker_list[current_id - 1]\n",
    "      tmp_trk.kalman_filter(current_box)\n",
    "      \n",
    "      xx = tmp_trk.x_state.T[0].tolist()\n",
    "      xx = [xx[0], xx[2], xx[4], xx[6]]\n",
    "      tmp_trk.box = xx      \n",
    "\n",
    "      current_boxes_dict[current_id] = np.squeeze(xx)\n",
    "      matched_trackers_list.append(current_id - 1)\n",
    "    # Brand new instance\n",
    "    else:\n",
    "      current_box = np.expand_dims(current_box, axis=0).T\n",
    "      \n",
    "      tmp_trk = Tracker()\n",
    "      x = np.array([[current_box[0], 0, current_box[1], 0, current_box[2], 0, current_box[3], 0]]).T\n",
    "      tmp_trk.x_state = x\n",
    "      tmp_trk.predict_only()\n",
    "\n",
    "      xx = tmp_trk.x_state.T[0].tolist()\n",
    "      xx = [xx[0], xx[2], xx[4], xx[6]]\n",
    "      tmp_trk.box = xx      \n",
    "      tmp_trk.id = tmp_len + 1\n",
    "      \n",
    "      current_boxes_dict[tmp_len + 1] = np.squeeze(xx)\n",
    "      tracker_list.append(tmp_trk)\n",
    "      tmp_len += 1\n",
    "\n",
    "  # Filter unmatched tracks\n",
    "  for idx, trk in enumerate(tmp_tracker_list):\n",
    "    if (idx not in matched_trackers_list):\n",
    "      tmp_trk = tracker_list[idx]\n",
    "      tmp_trk.predict_only()\n",
    "    \n",
    "      xx = tmp_trk.x_state.T[0].tolist()\n",
    "      xx = [xx[0], xx[2], xx[4], xx[6]]\n",
    "      tmp_trk.box = xx\n",
    "\n",
    "  return current_boxes_dict"
   ]
  },
  {
   "cell_type": "markdown",
   "metadata": {
    "colab_type": "text",
    "id": "H0_1AGhrWKMc"
   },
   "source": [
    "# Inference"
   ]
  },
  {
   "cell_type": "code",
   "execution_count": null,
   "metadata": {
    "colab": {
     "autoexec": {
      "startup": false,
      "wait_interval": 0
     }
    },
    "colab_type": "code",
    "id": "3a5wMHN8WKMh"
   },
   "outputs": [],
   "source": [
    "with detection_graph.as_default():\n",
    "  with tf.Session(graph=detection_graph) as sess:\n",
    "    # Remembers all entrances of every instance in a video\n",
    "    tracker_list = []\n",
    "    \n",
    "    while True:\n",
    "      ret, image_np = cap.read()\n",
    "      \n",
    "      # Expand dimensions since the model expects images to have shape: [1, None, None, 3]\n",
    "      image_np_expanded = np.expand_dims(image_np, axis=0)\n",
    "      image_tensor = detection_graph.get_tensor_by_name('image_tensor:0')\n",
    "      \n",
    "      # Each box represents a part of the image where a particular object was detected.\n",
    "      boxes = detection_graph.get_tensor_by_name('detection_boxes:0')\n",
    "      \n",
    "      # Each score represent how level of confidence for each of the objects.\n",
    "      # Score is shown on the result image, together with the class label.\n",
    "      scores = detection_graph.get_tensor_by_name('detection_scores:0')\n",
    "      classes = detection_graph.get_tensor_by_name('detection_classes:0')\n",
    "      num_detections = detection_graph.get_tensor_by_name('num_detections:0')\n",
    "      \n",
    "      # Get the inference\n",
    "      (boxes, scores, classes, num_detections) = sess.run(\n",
    "          [boxes, scores, classes, num_detections],\n",
    "          feed_dict={image_tensor: image_np_expanded})\n",
    "\n",
    "      # Drop all boxes except those for 'person' class\n",
    "      final_boxes, final_scores = boxes_to_class_map(\n",
    "        np.squeeze(boxes),\n",
    "        np.squeeze(classes),\n",
    "        np.squeeze(scores),\n",
    "        category_index)\n",
    "      \n",
    "      # Recognise all of the recieved instances\n",
    "      output_dict = boxes_to_ids_map(final_boxes, tracker_list)\n",
    "      \n",
    "      # Render boxes with ids\n",
    "      visualize_boxes(\n",
    "        image_np,\n",
    "        output_dict,\n",
    "        np.squeeze(classes).astype(np.int32),\n",
    "        category_index)\n",
    "      \n",
    "      out.write(image_np)\n",
    "\n",
    "      if cv2.waitKey(25) & 0xFF == ord('q'):\n",
    "        break\n",
    "        \n",
    "    cap.release()\n",
    "    out.release()\n",
    "    cv2.destroyAllWindows()"
   ]
  }
 ],
 "metadata": {
  "colab": {
   "default_view": {},
   "name": "object_detection_tutorial.ipynb?workspaceId=ronnyvotel:python_inference::citc",
   "provenance": [],
   "version": "0.3.2",
   "views": {}
  },
  "kernelspec": {
   "display_name": "Python (tensorflow-tutorials)",
   "language": "python",
   "name": "tensorflow-tutorials"
  },
  "language_info": {
   "codemirror_mode": {
    "name": "ipython",
    "version": 3
   },
   "file_extension": ".py",
   "mimetype": "text/x-python",
   "name": "python",
   "nbconvert_exporter": "python",
   "pygments_lexer": "ipython3",
   "version": "3.7.3"
  }
 },
 "nbformat": 4,
 "nbformat_minor": 1
}
